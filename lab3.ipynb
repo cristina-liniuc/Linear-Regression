{
  "nbformat": 4,
  "nbformat_minor": 0,
  "metadata": {
    "colab": {
      "name": "lab3.ipynb",
      "provenance": [],
      "collapsed_sections": [],
      "authorship_tag": "ABX9TyNAz1575cfIHbjN8XQOE0Zu",
      "include_colab_link": true
    },
    "kernelspec": {
      "name": "python3",
      "display_name": "Python 3"
    }
  },
  "cells": [
    {
      "cell_type": "markdown",
      "metadata": {
        "id": "view-in-github",
        "colab_type": "text"
      },
      "source": [
        "<a href=\"https://colab.research.google.com/github/cristina-liniuc/Linear-Regression/blob/master/lab3.ipynb\" target=\"_parent\"><img src=\"https://colab.research.google.com/assets/colab-badge.svg\" alt=\"Open In Colab\"/></a>"
      ]
    },
    {
      "cell_type": "markdown",
      "metadata": {
        "id": "Y3AtT8ptIwBD"
      },
      "source": [
        "# Linear Regression for predicting the medianComplexValue of an apartment complex\n",
        "\n",
        "This is a case of using linear regression algorithm provided by scikit-learn. \n",
        "The task is to predict the median complex value of an apartment complex from a given data set. First of all, necesary libraries shoul be imported."
      ]
    },
    {
      "cell_type": "code",
      "metadata": {
        "id": "Lj-HeKtzO4Up"
      },
      "source": [
        "import numpy as np\n",
        "import pandas as pd\n",
        "from sklearn.linear_model import LinearRegression\n",
        "from sklearn import metrics"
      ],
      "execution_count": 5,
      "outputs": []
    },
    {
      "cell_type": "markdown",
      "metadata": {
        "id": "MTz-e_QCO7R_"
      },
      "source": [
        "After that, the data is loaded."
      ]
    },
    {
      "cell_type": "code",
      "metadata": {
        "id": "bW3Qg3GNPCM9"
      },
      "source": [
        "data = pd.read_csv('apartmentComplexData.txt', sep=\",\", header=None)\n"
      ],
      "execution_count": null,
      "outputs": []
    },
    {
      "cell_type": "markdown",
      "metadata": {
        "id": "AZDqA5dBPNmZ"
      },
      "source": [
        "The columns that play an important role are the 3rd, the 4th, 5th, 6th, 7th and 9th. The last column represents the output, while the previous - the input data.\n"
      ]
    },
    {
      "cell_type": "code",
      "metadata": {
        "id": "4dZg1uJlPr_Q"
      },
      "source": [
        "X = data.iloc[:, [2,3,4,5,6]]\n",
        "y = data.iloc[:, 8]"
      ],
      "execution_count": 8,
      "outputs": []
    },
    {
      "cell_type": "markdown",
      "metadata": {
        "id": "y6gtFVjaQXSx"
      },
      "source": [
        "It is important also do devide the data into training sets and test sets in order to compare the actual values and predicted ones. test size reprezent the number of records that will be used for tests, being 20% in this case."
      ]
    },
    {
      "cell_type": "code",
      "metadata": {
        "id": "5RlPHbw_RY0X"
      },
      "source": [
        "X_train, X_test, y_train, y_test = train_test_split(X, y, test_size=0.2, random_state=0)\n"
      ],
      "execution_count": null,
      "outputs": []
    },
    {
      "cell_type": "markdown",
      "metadata": {
        "id": "PtPDFL8GQFiq"
      },
      "source": [
        "Then the function LinearRegression is called, the data for training is fitted and after that prediction can be made on the test records."
      ]
    },
    {
      "cell_type": "code",
      "metadata": {
        "id": "F7lduP_PRomZ"
      },
      "source": [
        "linear_model = LinearRegression()\n",
        "linear_model.fit(X_train, y_train)\n",
        "y_predicted = linear_model.predict(X_test)"
      ],
      "execution_count": null,
      "outputs": []
    },
    {
      "cell_type": "markdown",
      "metadata": {
        "id": "6Uja_0raS-2v"
      },
      "source": [
        "Last, the obtained data is printed, the mean errors and training set."
      ]
    },
    {
      "cell_type": "code",
      "metadata": {
        "colab": {
          "base_uri": "https://localhost:8080/"
        },
        "id": "K-e0qFeoS-ZH",
        "outputId": "95083e22-c4f6-4411-faff-a97a38144249"
      },
      "source": [
        "df = pd.DataFrame({'Actual': y_test, 'Predicted': y_predicted})\n",
        "print(df.head())\n",
        "print('Mean absolute error: %.2f' % metrics.mean_absolute_error(y_test, y_predicted))\n",
        "print('Mean squared error: ', metrics.mean_squared_error(y_test, y_predicted))\n",
        "print('Mean squared root error: ', np.sqrt(metrics.mean_squared_error(y_test, y_predicted)))\n",
        "print(\"Training set {:.2f}\".format(linear_model.score(X_train, y_train)))"
      ],
      "execution_count": 14,
      "outputs": [
        {
          "output_type": "stream",
          "text": [
            "         Actual      Predicted\n",
            "14740  136900.0  168180.534229\n",
            "10101  241300.0  241778.850065\n",
            "20566  200700.0  231232.926110\n",
            "2670    72500.0  199561.321273\n",
            "15709  460000.0  212385.606499\n",
            "Mean absolute error: 82283.06\n",
            "Mean squared error:  11161818657.825388\n",
            "Mean squared root error:  105649.50855458528\n",
            "Training set 0.16\n"
          ],
          "name": "stdout"
        }
      ]
    },
    {
      "cell_type": "markdown",
      "metadata": {
        "id": "63Kcjn1JUKfn"
      },
      "source": [
        "From the shown data, the results are very low. So let's try another linear algorithms.\n",
        "\n",
        "Ridge regression with cross-validation"
      ]
    },
    {
      "cell_type": "code",
      "metadata": {
        "colab": {
          "base_uri": "https://localhost:8080/"
        },
        "id": "SMAOSJIMVIrz",
        "outputId": "1fe25c27-ba2c-481a-d35f-c8b4e2020db0"
      },
      "source": [
        "from sklearn.model_selection import cross_val_score\n",
        "from sklearn.linear_model import RidgeCV\n",
        "\n",
        "\n",
        "ridge_model = RidgeCV(alphas=np.arange(90,100,0.1), fit_intercept= True)\n",
        "ridge_model.fit(X_train, y_train)\n",
        "y_ridge_model = ridge_model.predict(X_test)\n",
        "df = pd.DataFrame({'Actual': y_test, 'Predicted': y_ridge_model})\n",
        "print(df.head())\n",
        "print('Mean absolute error: %.2f' % metrics.mean_absolute_error(y_test, y_ridge_model))\n",
        "print(\"Training set {:.2f}\".format(ridge_model.score(X_train, y_train)))\n"
      ],
      "execution_count": 18,
      "outputs": [
        {
          "output_type": "stream",
          "text": [
            "         Actual      Predicted\n",
            "14740  136900.0  168181.021964\n",
            "10101  241300.0  241778.608902\n",
            "20566  200700.0  231232.810981\n",
            "2670    72500.0  199561.034186\n",
            "15709  460000.0  212385.998107\n",
            "error: 82283.06\n",
            "Training set 0.16\n"
          ],
          "name": "stdout"
        }
      ]
    },
    {
      "cell_type": "markdown",
      "metadata": {
        "id": "7sHeP_tCWTtq"
      },
      "source": [
        "Unfortunetely, the result is the same. Let's try another one.\n",
        "\n",
        "Elastic Net"
      ]
    },
    {
      "cell_type": "code",
      "metadata": {
        "colab": {
          "base_uri": "https://localhost:8080/"
        },
        "id": "p_9ZJum8WmSj",
        "outputId": "7629c3cc-4c35-418d-960c-13d18a49b2f5"
      },
      "source": [
        "from sklearn.linear_model import ElasticNet\n",
        "\n",
        "elastic_model = ElasticNet(random_state=0)\n",
        "elastic_model.fit(X_train, y_train)\n",
        "y_elastic_model = elastic_model.predict(X_test)\n",
        "df = pd.DataFrame({'Actual': y_test, 'Predicted': y_elastic_model})\n",
        "print(df.head())\n",
        "print('Mean absolute error: %.2f' % metrics.mean_absolute_error(y_test, y_elastic_model))\n",
        "print(\"Trining set {:.2f}\".format(elastic_model.score(X_train, y_train)))"
      ],
      "execution_count": 29,
      "outputs": [
        {
          "output_type": "stream",
          "text": [
            "         Actual      Predicted\n",
            "14740  136900.0  168225.119673\n",
            "10101  241300.0  241756.723462\n",
            "20566  200700.0  231222.454413\n",
            "2670    72500.0  199534.648549\n",
            "15709  460000.0  212421.144202\n",
            "error: 82283.62\n",
            "Trining set 0.16\n"
          ],
          "name": "stdout"
        }
      ]
    },
    {
      "cell_type": "markdown",
      "metadata": {
        "id": "M08Z31B5XpaP"
      },
      "source": [
        "Stochastic Gradient Descent Regression"
      ]
    },
    {
      "cell_type": "code",
      "metadata": {
        "colab": {
          "base_uri": "https://localhost:8080/"
        },
        "id": "3kZPKnU5XuPr",
        "outputId": "34e177ec-cf91-4258-a5fa-5d13884f60bd"
      },
      "source": [
        "from sklearn.linear_model import SGDRegressor\n",
        "from sklearn.pipeline import make_pipeline\n",
        "from sklearn.preprocessing import StandardScaler\n",
        "\n",
        "sdg_model = make_pipeline(StandardScaler(), ln.SGDRegressor(max_iter=3000, tol=1e-3))\n",
        "y_sdg_model = sdg_model.fit(X_train, y_train).predict(X_test)\n",
        "df = pd.DataFrame({'Actual': y_test, 'Predicted': y_sdg_model})\n",
        "print(df.head())\n",
        "print('error: %.2f' % metrics.mean_absolute_error(y_test, y_sdg_model))\n",
        "print(\"Trining set {:.2f}\".format(sdg_model.score(X_train, y_train)))"
      ],
      "execution_count": 30,
      "outputs": [
        {
          "output_type": "stream",
          "text": [
            "         Actual      Predicted\n",
            "14740  136900.0  166873.047818\n",
            "10101  241300.0  238332.433382\n",
            "20566  200700.0  228460.206080\n",
            "2670    72500.0  197186.596387\n",
            "15709  460000.0  209717.909323\n",
            "error: 81954.95\n",
            "Trining set 0.16\n"
          ],
          "name": "stdout"
        }
      ]
    }
  ]
}